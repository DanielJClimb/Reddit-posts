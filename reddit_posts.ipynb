{
 "cells": [
  {
   "cell_type": "code",
   "execution_count": 1,
   "id": "cd0dec27-49b8-40d3-8829-34b52431d166",
   "metadata": {},
   "outputs": [],
   "source": [
    "import praw\n",
    "import pandas as pd\n",
    "from time import sleep"
   ]
  },
  {
   "cell_type": "code",
   "execution_count": 2,
   "id": "e14d2a60-7822-442b-9605-8483abae2b0c",
   "metadata": {},
   "outputs": [],
   "source": [
    "reddit = praw.Reddit(user_agent=True, client_id = \"71daSMoBXlJq3yhUaOtpoQ\",\n",
    "                    client_secret = \"siV92v6ZEzu3_1Oe8KiSP7zcFNeb6A\", username='***',\n",
    "                    password='***')"
   ]
  },
  {
   "cell_type": "code",
   "execution_count": 3,
   "id": "9974f37a-8d54-4888-80df-8f9dc1ec54e5",
   "metadata": {},
   "outputs": [],
   "source": [
    "url = \"https://www.reddit.com/r/BoomersBeingFools/comments/1airepv/comments_were_all_boomers_who_couldnt_tell_this/\"\n",
    "\n",
    "post = reddit.submission(url=url)"
   ]
  },
  {
   "cell_type": "code",
   "execution_count": 4,
   "id": "455c1822-9404-46b6-a81f-cbf208c03435",
   "metadata": {
    "scrolled": true
   },
   "outputs": [
    {
     "name": "stdout",
     "output_type": "stream",
     "text": [
      "I have boomers that regularly try to show me police chase videos from GTA 5 they found on facebook. When I say it's a video game/AI they tell me I'm lying and continue to gawk at someone driving through police barricades without getting damage on the cars and killing cops for fun.\n",
      "tbf it can be convincing to someone that never seen the game but there are countless things that give it away.\n",
      "How are they this stupid? \n",
      "It’s clearly fake and even if it weren’t how is this cool or good?\n",
      "I can't be the only one who has to know what the comments were lol\n",
      "You should tell them that two of them are girls. Well, not yet, but eventually.\n",
      "What in the earthly fuck. What the fuck.\n",
      "\n",
      "Babies in military outfits. Forget the obvious AI of it all. Babies in fucking military outfits.\n",
      "\n",
      "What the fucking fuck.\n",
      "\n",
      "I did not have “child soldiers give me a patriotic boner (the only boner my body is capable of anymore)” on my bingo card today.\n",
      "\n",
      "Not sure why I’m surprised, but… my god…\n",
      "\n",
      "![gif](giphy|vUEznRmVQfG2Q)\n",
      "I have seen so many FB posts in the past few days of AI Jesus in front of American soldiers, at the beach, adopting dogs, I don't know. The title of each one is always, \"Why don't pictures like this ever trend?\" Obviously bad AI. It's really annoying.\n",
      "GOBBLLESS!!! 🙏🙏🙏\n",
      "They're so pro life they want babies in the military as soon as they're born so we can send them off to war to die.\n",
      "Omg that’s so preshus\n",
      "\n",
      "![gif](giphy|os5Bz1IRmXaik)\n",
      "Staff Sergeant Baby McBabyface, reporting for doodie.\n",
      "Lmao. How to tell that you have no grandkids:\n",
      "\n",
      "Babies that age are not gonna be able to stand up straight in a line, much less all be smiling [the exact same smile] or looking in the same direction at exactly the same time.\n",
      "\n",
      "Shit, I got two kids who are much older than that and I can't even make them do that lol\n",
      "Children should not idolize war and murder\n",
      "Dang, now we know why those drones never hit the right target. Undeveloped motor skills.\n",
      "They were the generation that was anti war untill they were in no danger of being drafted, then pushed for military adventures when it was the next generation who was serving (Gen X veteran here).\n",
      "I think this it's fascinating how this leads to the broader observation on how the boomer generation and older only see boys as future soldiers and girls as future baby-making homemakers.\n",
      "Even before the advent of publicly available AI generators, my mom always kept falling for clickbait videos of very obviously fake mockbuster-level CGI sloppily pasted on live action footage and then acts all incredulous when I point out it's just cut-rate special effects by some guy who probably has 2 weeks experience on Adobe After Effects\n",
      "Stolen valor. No way these infants have that many medals.\n",
      "Late Gen x and sometimes lumped with boomers. Knew instantly. 55 yrs\n",
      "“Powerful picture.” Omg fucking psychotic\n",
      "If you have recently lived with more than one toddler boy (or even one) you would know this is fake.\n",
      "man, this election cycle is going to be the biggest mess yet.\n",
      "Yeah, but can you read cursive or balance a checkbook?\n",
      "\"Conservatives want live babies so they can raise then to be dead soldiers.\" -George Carlin\n",
      "Yeah, the hands are wrong.\n",
      "THIS IS WHAT THEY TOOK FROM YOU!!!\n",
      "What do you honestly expect from them?\n",
      "God I hope I can set my son up to get a quality post secondary education without having to join the military like my dumb ass did.\n",
      "Stolen valor.\n",
      "Post the comments OP!\n",
      "I’m going to test this on FB\n",
      "The comments were probably bots\n",
      "To be fair if your eyes aren't very good and you're looking at stuff on a mobile phone. Details might get past them pretty easy.\n",
      "Post some of the comments?\n",
      "In all fairness Boomers probably don’t have the sharpest vision nowadays.  Besides the majorly fuzzy faces this actually isn’t your typical extra fingers/hands AI photo.\n",
      "\"Conservatives want live babies so they can train them to be dead soldiers\"\n",
      "  -George Carlin\n",
      "That’s how all the new recruits looked to me when I retired from the Army last year. \n",
      "Not really, but when you’re 40, an 18 year old adult looks too young to sign up. I figure that’s what they must’ve thought about me all those years ago.\n",
      "Did they thank them for their service?\n",
      "“Such a powerful image! God bless these patriots! 🇺🇸🇺🇸🇺🇸🙏🙏🙏”\n",
      "/s\n",
      "Can someone explain what the dead giveaway that this is fake is? It looks like artificial lighting, and if I zoom in I can see weird artifacts, but at a casual glance on the phone it just looks like some Cracker Jack Hitler youth kids being exploited, which is totally believable. It sucks that people like this image, but I'm not really seeing how it's \"so obviously fake.\"\n",
      "I guess it's just the uncanny vibes.\n",
      "Have any of you heard of costumes?  Children in costumes, shocking.\n",
      "This is adorable tho\n",
      "it’s adorable\n",
      "You must be so proud\n",
      "[removed]\n",
      "Marines getting a taste for crayons\n",
      "Boomers are straight-up stone-cold stupid 😂\n",
      "Bruh this one has me laughing out loud for real ![gif](emote|free_emotes_pack|joy)\n",
      "This is like the prequel to All Quiet on the Western Front\n",
      "This reminded me of the birthday party scene in Toy Story, where every child is just Andy.\n",
      "Powerful\n",
      "r/bamboozledbyAI\n",
      "How are all those kids so well decorated?\n",
      "Like how many people did they have to kill?\n",
      "The \"don't believe everything you see on the Internet\" generation having a normal one.\n",
      "Just look at the hands. Dead give away. And the creepy doll faces with weird blur effect. But then again the ones commenting on it probably can’t see for shit.\n",
      "Really missed an opportunity here. Need to have at least one in a wheelchair. One missing a limb with the sleeve straight down. How adorable!!\n",
      "None of it is real: the soldiers aren't real, the comments never happened, and the reactions are disingenuous. This comment you're reading isn't even here. Reddit: no one's ever heard of it.\n",
      "AI Images didn't exist a couple years ago.  Faked videos were exceedingly difficult.   Now r/midjourney shows fantastical images in every post and GTA Police Chase videos are trivial.  It's a new medium.\n",
      "\n",
      "Whenever a new medium arises, the new medium slips right by people's crediblity analysis.  When Gutenberg made the press, people couldn't tell pamphlets about witches in their neighborhood were bogus.  When motion pictures came out, people couldn't tell Birth of a Nation was bogus.  When color came to television, people couldn't tell Gilligan's Island was bogus, even though they knew the black and white version was bogus.   So, yes, filters for AI are still building.  \n",
      "\n",
      "We forget how many people were taken in by early photoshops of politicians doing the left hand on the heart for a flag salute.  Basic photoshop is harder to make pass, but AI images still slip through.\n",
      "\n",
      "Boomers will get a bad reputation; their filters will take longer.\n",
      "Why do y’all judge boomers for being naive when it comes to the internet? It’s not like they had it growing up. This whole sub just comes off as disrespectful. That’s like boomers making fun of us for not knowing how to ride a horse, or use an old telephone with the wheel thingy. Do y’all really need such validation to make yourselves feel better by making fun of people’s grandparents?\n",
      "So it goes.\n",
      "People are so bad at picking up details. Just take a moment grandma and maybe question why the two kids on the right share an arm?\n",
      "The hand on the kid on the left is the stuff of nightmares\n",
      "Now mix AI, boomers and presidential elections\n",
      "Boomer:  \"Grandson, get in here!  I can't find a file on my computer. Hurry up, dammit!\"\n",
      "\n",
      "Grandson:  \"Have you tried clicking on My Computer?\n",
      "\n",
      "Boomer:  \"Why should I have to click on your computer?!\"\n",
      "Meanwhile, on Kamino...\n",
      "Cool-news 😎\n",
      "Ò?\n",
      "If the content is made with AI you should make a fair assumption that the comments are as well. I've stumbled on posts that have like 400 of the identical comment. One was about a guy that discovered a horde of bronze age coins in his yard and all the comments were \"Amen.\" In that situation it looks like the Botnet that was promoting those posts glitched. Amen is something you can write on any post and is commonly written below religious chain posts so it's a comment a bot can add to drum up engagement without being reported. (Imagine Facebook blocking some granny because she said Amen to a bait post.)\n",
      "I've always thought the irony was kind of hilarious that this generation has the most disrespect and contempt for their elders than any generation in recorded history..... and they also happen to be the first generation in recorded history with a lower IQ than their parents...\n",
      "\n",
      "I wonder if there's some causation there.\n",
      "It looks like they photoshopped an AI image even. Not that they would understand what that means either but still.\n",
      "Why would anyone know its AI?🙄\n",
      "\n",
      "Fake yeah but only a robot or the person who generated it would know it's AI\n",
      "Is their eyesight that poor that AI jankiness looks completely normal to them?\n",
      "AI or no, what the fuck is “powerful” about an image depicting literal child soldiers?\n",
      "Why don't they show baby coffins with USA flags on em? Now THAT is a way more accurate one.\n"
     ]
    }
   ],
   "source": [
    "for comment in post.comments:\n",
    "    print(comment.body)"
   ]
  },
  {
   "cell_type": "code",
   "execution_count": 5,
   "id": "6557ea78-d6b0-4fd1-a970-883ff8797cd8",
   "metadata": {},
   "outputs": [
    {
     "name": "stdout",
     "output_type": "stream",
     "text": [
      "73\n"
     ]
    }
   ],
   "source": [
    "print(len(post.comments))"
   ]
  },
  {
   "cell_type": "code",
   "execution_count": 6,
   "id": "cd53d9d9-a420-4925-9424-f859d337d956",
   "metadata": {},
   "outputs": [
    {
     "name": "stdout",
     "output_type": "stream",
     "text": [
      "SakaYeen6\n",
      "None\n",
      "None\n",
      "Stewpacolypse\n",
      "SlyClydesdale\n",
      "ObviousGnome\n",
      "GWvaluetown\n",
      "None\n",
      "Ba55of0rte\n",
      "None\n",
      "None\n",
      "multicolorclam\n",
      "0cean19\n",
      "None\n",
      "After_Stick1676\n",
      "l156a21\n",
      "QuiteCleanly99\n",
      "Material_Ad_8971\n",
      "zblaze90\n",
      "cupheadsmom\n",
      "None\n",
      "Worried-Choice5295\n",
      "sexy-man-doll\n",
      "None\n",
      "Traditional-Toe-3854\n",
      "Free-Veterinarian714\n",
      "None\n",
      "smedrick\n",
      "LexiconLearner\n",
      "fitzy588\n",
      "None\n",
      "evident_lee\n",
      "Right-Monitor9421\n",
      "iliketorubherbutt\n",
      "The1BannedBandit\n",
      "OkayestHuman\n",
      "BigRigButters2\n",
      "dre4den\n",
      "aplomba\n",
      "TiggerFanOfDelaware\n",
      "IllustratorNo3379\n",
      "evilDuck66\n",
      "TripleTrucker\n",
      "None\n",
      "dukeofgibbon\n",
      "uCry__iLoL\n",
      "CaliDreamin87\n",
      "butters091\n",
      "Knowledge_Regret\n",
      "80sLegoDystopia\n",
      "ADubtheSkrub\n",
      "PythonSushi\n",
      "shisno_MCMLXXVIII\n",
      "bigdiesel1984\n",
      "Free_Ag3nt\n",
      "EveningAgreeable2516\n",
      "AdvanceAdvance\n",
      "None\n",
      "lwbritsch\n",
      "crndwg\n",
      "None\n",
      "el-conquistador240\n",
      "StangRunner45\n",
      "TripleEhBeef\n",
      "PhotographOk8039\n",
      "Charming_Ad8761\n",
      "skuuterz\n",
      "None\n",
      "michellescuck\n",
      "Solitaire_87\n",
      "Ultra64ZX\n",
      "None\n",
      "AccountantOwn2351\n"
     ]
    }
   ],
   "source": [
    "for comment in post.comments:\n",
    "    print(comment.author)"
   ]
  },
  {
   "cell_type": "markdown",
   "id": "632095d2-ba68-4547-a48c-08956fdfaec0",
   "metadata": {},
   "source": [
    "# link 1\n",
    "https://www.reddit.com/r/BoomersBeingFools/comments/1airepv/comments_were_all_boomers_who_couldnt_tell_this/"
   ]
  },
  {
   "cell_type": "code",
   "execution_count": 7,
   "id": "68deb10e-e37b-4ce1-9519-ab2aa5dc0f7c",
   "metadata": {},
   "outputs": [],
   "source": [
    "user = []\n",
    "posts = []\n",
    "url = \"https://www.reddit.com/r/BoomersBeingFools/comments/1airepv/comments_were_all_boomers_who_couldnt_tell_this/\"\n",
    "\n",
    "post = reddit.submission(url=url)\n",
    "for comment in post.comments:\n",
    "    user.append(comment.author)\n",
    "    posts.append(comment.body)"
   ]
  },
  {
   "cell_type": "code",
   "execution_count": 8,
   "id": "f1603528-5fcb-488f-af22-99026be931a4",
   "metadata": {
    "scrolled": true
   },
   "outputs": [
    {
     "data": {
      "text/html": [
       "<div>\n",
       "<style scoped>\n",
       "    .dataframe tbody tr th:only-of-type {\n",
       "        vertical-align: middle;\n",
       "    }\n",
       "\n",
       "    .dataframe tbody tr th {\n",
       "        vertical-align: top;\n",
       "    }\n",
       "\n",
       "    .dataframe thead th {\n",
       "        text-align: right;\n",
       "    }\n",
       "</style>\n",
       "<table border=\"1\" class=\"dataframe\">\n",
       "  <thead>\n",
       "    <tr style=\"text-align: right;\">\n",
       "      <th></th>\n",
       "      <th>author</th>\n",
       "      <th>posts</th>\n",
       "    </tr>\n",
       "  </thead>\n",
       "  <tbody>\n",
       "    <tr>\n",
       "      <th>0</th>\n",
       "      <td>SakaYeen6</td>\n",
       "      <td>I have boomers that regularly try to show me p...</td>\n",
       "    </tr>\n",
       "    <tr>\n",
       "      <th>1</th>\n",
       "      <td>None</td>\n",
       "      <td>How are they this stupid? \\nIt’s clearly fake ...</td>\n",
       "    </tr>\n",
       "    <tr>\n",
       "      <th>2</th>\n",
       "      <td>None</td>\n",
       "      <td>I can't be the only one who has to know what t...</td>\n",
       "    </tr>\n",
       "    <tr>\n",
       "      <th>3</th>\n",
       "      <td>Stewpacolypse</td>\n",
       "      <td>You should tell them that two of them are girl...</td>\n",
       "    </tr>\n",
       "    <tr>\n",
       "      <th>4</th>\n",
       "      <td>SlyClydesdale</td>\n",
       "      <td>What in the earthly fuck. What the fuck.\\n\\nBa...</td>\n",
       "    </tr>\n",
       "    <tr>\n",
       "      <th>5</th>\n",
       "      <td>ObviousGnome</td>\n",
       "      <td>I have seen so many FB posts in the past few d...</td>\n",
       "    </tr>\n",
       "    <tr>\n",
       "      <th>6</th>\n",
       "      <td>GWvaluetown</td>\n",
       "      <td>GOBBLLESS!!! 🙏🙏🙏</td>\n",
       "    </tr>\n",
       "    <tr>\n",
       "      <th>7</th>\n",
       "      <td>None</td>\n",
       "      <td>They're so pro life they want babies in the mi...</td>\n",
       "    </tr>\n",
       "    <tr>\n",
       "      <th>8</th>\n",
       "      <td>Ba55of0rte</td>\n",
       "      <td>Omg that’s so preshus\\n\\n![gif](giphy|os5Bz1IR...</td>\n",
       "    </tr>\n",
       "    <tr>\n",
       "      <th>9</th>\n",
       "      <td>None</td>\n",
       "      <td>Staff Sergeant Baby McBabyface, reporting for ...</td>\n",
       "    </tr>\n",
       "  </tbody>\n",
       "</table>\n",
       "</div>"
      ],
      "text/plain": [
       "          author                                              posts\n",
       "0      SakaYeen6  I have boomers that regularly try to show me p...\n",
       "1           None  How are they this stupid? \\nIt’s clearly fake ...\n",
       "2           None  I can't be the only one who has to know what t...\n",
       "3  Stewpacolypse  You should tell them that two of them are girl...\n",
       "4  SlyClydesdale  What in the earthly fuck. What the fuck.\\n\\nBa...\n",
       "5   ObviousGnome  I have seen so many FB posts in the past few d...\n",
       "6    GWvaluetown                                   GOBBLLESS!!! 🙏🙏🙏\n",
       "7           None  They're so pro life they want babies in the mi...\n",
       "8     Ba55of0rte  Omg that’s so preshus\\n\\n![gif](giphy|os5Bz1IR...\n",
       "9           None  Staff Sergeant Baby McBabyface, reporting for ..."
      ]
     },
     "execution_count": 8,
     "metadata": {},
     "output_type": "execute_result"
    }
   ],
   "source": [
    "dict = {\"author\": user, \"posts\":posts}\n",
    "reddit_posts = pd.DataFrame(dict)\n",
    "reddit_posts.head(10)"
   ]
  },
  {
   "cell_type": "markdown",
   "id": "8361140d-6eb1-430b-a575-68797ca3a17d",
   "metadata": {},
   "source": [
    "# loading all urls to one list"
   ]
  },
  {
   "cell_type": "code",
   "execution_count": 9,
   "id": "d070134c-6015-40b7-ac44-1a98a653c707",
   "metadata": {},
   "outputs": [],
   "source": [
    "my_file = open(\"reddit.txt\", \"r\")\n",
    "data = my_file.read()\n",
    "urls = data.split(\"\\n\")\n",
    "my_file.close()"
   ]
  },
  {
   "cell_type": "code",
   "execution_count": 10,
   "id": "2fc9d2bc-449c-4317-b680-dda1270c59a0",
   "metadata": {},
   "outputs": [
    {
     "data": {
      "text/plain": [
       "['https://www.reddit.com/r/BoomersBeingFools/comments/1fy6cgf/boomers_and_ai/',\n",
       " 'https://www.reddit.com/r/videos/comments/1ccb6q9/boomers_getting_tricked_by_ai_on_facebook/',\n",
       " 'https://www.reddit.com/r/BoomersBeingFools/comments/1erhfcq/why_are_boomers_incapable_of_spotting_ai_content/',\n",
       " 'https://www.reddit.com/r/BoomersBeingFools/comments/1asjrl2/noticing_a_trend_that_boomers_cant_tell_its_an_ai/',\n",
       " 'https://www.reddit.com/r/sysadmin/comments/1hc15c7/does_anyone_have_a_510_minute_video_on_artificial/',\n",
       " 'https://www.reddit.com/r/facepalm/comments/1fbi285/boomers_falling_for_ai_a_love_story/',\n",
       " 'https://www.reddit.com/r/BoomersBeingFools/comments/1b8f1ln/boomers_being_duped_by_crappy_ai_photos_shows/',\n",
       " 'https://www.reddit.com/r/Futurology/comments/1g7a31s/scammers_swindle_elderly_california_man_out_of/',\n",
       " 'https://www.reddit.com/r/ArtificialInteligence/comments/1jmu1qo/generative_ai_for_elderly_care/',\n",
       " 'https://www.reddit.com/r/technology/comments/1bmi24l/facebook_is_filled_with_aigenerated_garbageand/',\n",
       " 'https://www.reddit.com/r/AskOldPeople/comments/1fp38ni/what_do_seniors_think_of_ai_do_you_use_any_ai_apps/',\n",
       " 'https://www.reddit.com/r/AiNewsDaily/comments/1j7o74l/chinas_ai_eldercare_savior_orcreepy_control/']"
      ]
     },
     "execution_count": 10,
     "metadata": {},
     "output_type": "execute_result"
    }
   ],
   "source": [
    "# removing first url\n",
    "urls = urls[1:]\n",
    "urls"
   ]
  },
  {
   "cell_type": "code",
   "execution_count": 11,
   "id": "31c833c7-e232-4124-b46c-63b166e41897",
   "metadata": {},
   "outputs": [],
   "source": [
    "for url in urls:\n",
    "    user = []\n",
    "    posts = []\n",
    "    post = reddit.submission(url=url)\n",
    "    post.comments.replace_more(limit=0) # removing MoreComments object\n",
    "    for comment in post.comments:\n",
    "        user.append(comment.author)\n",
    "        posts.append(comment.body)\n",
    "    dict = {\"author\": user, \"posts\":posts}\n",
    "    df_temp = pd.DataFrame(dict)\n",
    "    reddit_posts = pd.concat([reddit_posts, df_temp])\n",
    "    sleep(10)"
   ]
  },
  {
   "cell_type": "code",
   "execution_count": 12,
   "id": "2ce26219-a7e6-4ff9-a4c6-e76d08a22286",
   "metadata": {},
   "outputs": [
    {
     "data": {
      "text/plain": [
       "1278"
      ]
     },
     "execution_count": 12,
     "metadata": {},
     "output_type": "execute_result"
    }
   ],
   "source": [
    "len(reddit_posts)"
   ]
  },
  {
   "cell_type": "markdown",
   "id": "7dbd822b-7bb1-4900-a50b-a8f0223c6292",
   "metadata": {},
   "source": [
    "# loading urls from second file"
   ]
  },
  {
   "cell_type": "code",
   "execution_count": 13,
   "id": "b33e7bd4-18f3-4532-bced-76a649e3d86f",
   "metadata": {},
   "outputs": [
    {
     "data": {
      "text/plain": [
       "['https://www.reddit.com/r/antiwork/comments/1ggvsof/ai_job_application_screeners_overwhelmingly/',\n",
       " 'https://www.reddit.com/r/centrist/comments/1awvu2a/google_gemini_is_accused_of_being_racist_towards/',\n",
       " 'https://www.reddit.com/r/MensRights/comments/znv6u6/ai_comes_preprogrammed_with_sexism/',\n",
       " 'https://www.reddit.com/r/womenintech/comments/1gpqhbx/racism_and_misogyny_found_in_ai_studies_we_need/',\n",
       " 'https://www.reddit.com/r/Futurology/comments/1bgj57h/as_ai_tools_get_smarter_theyre_growing_more/',\n",
       " 'https://www.reddit.com/r/AskFeminists/comments/106frj6/is_ai_sexist_and_if_so_how/',\n",
       " 'https://www.reddit.com/r/ArtificialInteligence/comments/1hfynua/how_can_we_prevent_ai_bias_and_discrimination/']"
      ]
     },
     "execution_count": 13,
     "metadata": {},
     "output_type": "execute_result"
    }
   ],
   "source": [
    "my_file = open(\"links.txt\", \"r\")\n",
    "data = my_file.read()\n",
    "urls = data.split(\"\\n\")\n",
    "my_file.close()\n",
    "urls"
   ]
  },
  {
   "cell_type": "code",
   "execution_count": 14,
   "id": "8b8eca3b-d84a-46c8-bcde-ac4061c83a05",
   "metadata": {},
   "outputs": [],
   "source": [
    "for url in urls:\n",
    "    user = []\n",
    "    posts = []\n",
    "    post = reddit.submission(url=url)\n",
    "    post.comments.replace_more(limit=0) # removing MoreComments object\n",
    "    for comment in post.comments:\n",
    "        user.append(comment.author)\n",
    "        posts.append(comment.body)\n",
    "    dict = {\"author\": user, \"posts\":posts}\n",
    "    df_temp = pd.DataFrame(dict)\n",
    "    reddit_posts = pd.concat([reddit_posts, df_temp])\n",
    "    sleep(10)"
   ]
  },
  {
   "cell_type": "code",
   "execution_count": 15,
   "id": "ccf3b6e5-a3bd-478b-ab5d-c3a6a254baf7",
   "metadata": {},
   "outputs": [
    {
     "data": {
      "text/plain": [
       "1582"
      ]
     },
     "execution_count": 15,
     "metadata": {},
     "output_type": "execute_result"
    }
   ],
   "source": [
    "len(reddit_posts)"
   ]
  },
  {
   "cell_type": "code",
   "execution_count": 17,
   "id": "fa30f32d-3e03-4a7b-8b4a-0c313be98674",
   "metadata": {},
   "outputs": [],
   "source": [
    "reddit_posts.to_csv(\"reddit.csv\")"
   ]
  },
  {
   "cell_type": "code",
   "execution_count": null,
   "id": "bed4fe94-6108-46f9-8f8d-7709e3d8c3d0",
   "metadata": {},
   "outputs": [],
   "source": []
  }
 ],
 "metadata": {
  "kernelspec": {
   "display_name": "Python 3 (ipykernel)",
   "language": "python",
   "name": "python3"
  },
  "language_info": {
   "codemirror_mode": {
    "name": "ipython",
    "version": 3
   },
   "file_extension": ".py",
   "mimetype": "text/x-python",
   "name": "python",
   "nbconvert_exporter": "python",
   "pygments_lexer": "ipython3",
   "version": "3.12.8"
  }
 },
 "nbformat": 4,
 "nbformat_minor": 5
}
